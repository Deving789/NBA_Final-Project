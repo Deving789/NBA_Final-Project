{
 "cells": [
  {
   "cell_type": "code",
   "execution_count": 1,
   "metadata": {},
   "outputs": [],
   "source": [
    "#import dependencies\n",
    "import json\n",
    "import pandas as pd\n",
    "import numpy as np\n",
    "from pandas import DataFrame"
   ]
  },
  {
   "cell_type": "code",
   "execution_count": 2,
   "metadata": {},
   "outputs": [],
   "source": [
    "#create file direcotry\n",
    "file_dir = '/Users/devingreenzang/desktop/challenges/Final/NBA_Final-Project/'"
   ]
  },
  {
   "cell_type": "code",
   "execution_count": 3,
   "metadata": {},
   "outputs": [],
   "source": [
    "#import the csv files\n",
    "shot_log = pd.read_csv(f'{file_dir}shot_logs.csv')\n",
    "stats = pd.read_csv(f'{file_dir}players_stats.csv')"
   ]
  },
  {
   "cell_type": "code",
   "execution_count": 4,
   "metadata": {},
   "outputs": [
    {
     "data": {
      "text/plain": [
       "['GAME_ID',\n",
       " 'MATCHUP',\n",
       " 'LOCATION',\n",
       " 'W',\n",
       " 'FINAL_MARGIN',\n",
       " 'SHOT_NUMBER',\n",
       " 'PERIOD',\n",
       " 'GAME_CLOCK',\n",
       " 'SHOT_CLOCK',\n",
       " 'DRIBBLES',\n",
       " 'TOUCH_TIME',\n",
       " 'SHOT_DIST',\n",
       " 'PTS_TYPE',\n",
       " 'SHOT_RESULT',\n",
       " 'CLOSEST_DEFENDER',\n",
       " 'CLOSEST_DEFENDER_PLAYER_ID',\n",
       " 'CLOSE_DEF_DIST',\n",
       " 'FGM',\n",
       " 'PTS',\n",
       " 'player_name',\n",
       " 'player_id']"
      ]
     },
     "execution_count": 4,
     "metadata": {},
     "output_type": "execute_result"
    }
   ],
   "source": [
    "shot_log.columns.to_list()"
   ]
  },
  {
   "cell_type": "code",
   "execution_count": 5,
   "metadata": {},
   "outputs": [],
   "source": [
    "shot_log['SHOT_RESULT'] = shot_log.SHOT_RESULT.map(dict(made=1.0, missed=0.0))"
   ]
  },
  {
   "cell_type": "code",
   "execution_count": 6,
   "metadata": {},
   "outputs": [],
   "source": [
    "#shot_log['SHOT_RESULT'] = pd.to_numeric(shot_log['SHOT_RESULT'], errors='coerce')"
   ]
  },
  {
   "cell_type": "code",
   "execution_count": 7,
   "metadata": {},
   "outputs": [
    {
     "data": {
      "text/plain": [
       "0         1.0\n",
       "1         0.0\n",
       "2         0.0\n",
       "3         0.0\n",
       "4         0.0\n",
       "         ... \n",
       "128064    0.0\n",
       "128065    1.0\n",
       "128066    1.0\n",
       "128067    0.0\n",
       "128068    1.0\n",
       "Name: SHOT_RESULT, Length: 128069, dtype: float64"
      ]
     },
     "execution_count": 7,
     "metadata": {},
     "output_type": "execute_result"
    }
   ],
   "source": [
    "shot_log['SHOT_RESULT']"
   ]
  },
  {
   "cell_type": "code",
   "execution_count": 8,
   "metadata": {},
   "outputs": [
    {
     "name": "stdout",
     "output_type": "stream",
     "text": [
      "                             GAME_ID  FINAL_MARGIN  SHOT_NUMBER    PERIOD  \\\n",
      "GAME_ID                     1.000000      0.001726     0.008129 -0.008921   \n",
      "FINAL_MARGIN                0.001726      1.000000     0.000836 -0.003078   \n",
      "SHOT_NUMBER                 0.008129      0.000836     1.000000  0.654932   \n",
      "PERIOD                     -0.008921     -0.003078     0.654932  1.000000   \n",
      "SHOT_CLOCK                  0.014530     -0.009276    -0.032683 -0.051796   \n",
      "DRIBBLES                    0.002014      0.011739     0.141100  0.055301   \n",
      "TOUCH_TIME                 -0.000735      0.010788     0.144071  0.046089   \n",
      "SHOT_DIST                  -0.000187      0.008876     0.011541  0.030080   \n",
      "PTS_TYPE                    0.003418      0.024134     0.003054  0.048915   \n",
      "SHOT_RESULT                -0.008761      0.058762    -0.008351 -0.014082   \n",
      "CLOSEST_DEFENDER_PLAYER_ID  0.028676      0.057165     0.013257  0.011462   \n",
      "CLOSE_DEF_DIST              0.006739      0.033064    -0.037769 -0.010204   \n",
      "FGM                        -0.008761      0.058762    -0.008351 -0.014082   \n",
      "PTS                        -0.008464      0.064784    -0.009666 -0.008501   \n",
      "player_id                   0.027937     -0.050825    -0.006592  0.004790   \n",
      "\n",
      "                            SHOT_CLOCK  DRIBBLES  TOUCH_TIME  SHOT_DIST  \\\n",
      "GAME_ID                       0.014530  0.002014   -0.000735  -0.000187   \n",
      "FINAL_MARGIN                 -0.009276  0.011739    0.010788   0.008876   \n",
      "SHOT_NUMBER                  -0.032683  0.141100    0.144071   0.011541   \n",
      "PERIOD                       -0.051796  0.055301    0.046089   0.030080   \n",
      "SHOT_CLOCK                    1.000000 -0.082771   -0.147688  -0.173026   \n",
      "DRIBBLES                     -0.082771  1.000000    0.914311  -0.082540   \n",
      "TOUCH_TIME                   -0.147688  0.914311    1.000000  -0.085165   \n",
      "SHOT_DIST                    -0.173026 -0.082540   -0.085165   1.000000   \n",
      "PTS_TYPE                     -0.032809 -0.169016   -0.181007   0.740933   \n",
      "SHOT_RESULT                   0.096855 -0.034390   -0.045299  -0.191704   \n",
      "CLOSEST_DEFENDER_PLAYER_ID   -0.003289  0.016915    0.016225   0.002777   \n",
      "CLOSE_DEF_DIST                0.026558 -0.153674   -0.164737   0.523192   \n",
      "FGM                           0.096855 -0.034390   -0.045299  -0.191704   \n",
      "PTS                           0.084173 -0.055689   -0.066736  -0.069147   \n",
      "player_id                     0.038315  0.023655    0.001797  -0.024270   \n",
      "\n",
      "                            PTS_TYPE  SHOT_RESULT  CLOSEST_DEFENDER_PLAYER_ID  \\\n",
      "GAME_ID                     0.003418    -0.008761                    0.028676   \n",
      "FINAL_MARGIN                0.024134     0.058762                    0.057165   \n",
      "SHOT_NUMBER                 0.003054    -0.008351                    0.013257   \n",
      "PERIOD                      0.048915    -0.014082                    0.011462   \n",
      "SHOT_CLOCK                 -0.032809     0.096855                   -0.003289   \n",
      "DRIBBLES                   -0.169016    -0.034390                    0.016915   \n",
      "TOUCH_TIME                 -0.181007    -0.045299                    0.016225   \n",
      "SHOT_DIST                   0.740933    -0.191704                    0.002777   \n",
      "PTS_TYPE                    1.000000    -0.121293                    0.006266   \n",
      "SHOT_RESULT                -0.121293     1.000000                   -0.002633   \n",
      "CLOSEST_DEFENDER_PLAYER_ID  0.006266    -0.002633                    1.000000   \n",
      "CLOSE_DEF_DIST              0.414198    -0.001074                   -0.015057   \n",
      "FGM                        -0.121293     1.000000                   -0.002633   \n",
      "PTS                         0.030361     0.970686                   -0.002046   \n",
      "player_id                   0.010486    -0.005099                   -0.002317   \n",
      "\n",
      "                            CLOSE_DEF_DIST       FGM       PTS  player_id  \n",
      "GAME_ID                           0.006739 -0.008761 -0.008464   0.027937  \n",
      "FINAL_MARGIN                      0.033064  0.058762  0.064784  -0.050825  \n",
      "SHOT_NUMBER                      -0.037769 -0.008351 -0.009666  -0.006592  \n",
      "PERIOD                           -0.010204 -0.014082 -0.008501   0.004790  \n",
      "SHOT_CLOCK                        0.026558  0.096855  0.084173   0.038315  \n",
      "DRIBBLES                         -0.153674 -0.034390 -0.055689   0.023655  \n",
      "TOUCH_TIME                       -0.164737 -0.045299 -0.066736   0.001797  \n",
      "SHOT_DIST                         0.523192 -0.191704 -0.069147  -0.024270  \n",
      "PTS_TYPE                          0.414198 -0.121293  0.030361   0.010486  \n",
      "SHOT_RESULT                      -0.001074  1.000000  0.970686  -0.005099  \n",
      "CLOSEST_DEFENDER_PLAYER_ID       -0.015057 -0.002633 -0.002046  -0.002317  \n",
      "CLOSE_DEF_DIST                    1.000000 -0.001074  0.063612   0.008483  \n",
      "FGM                              -0.001074  1.000000  0.970686  -0.005099  \n",
      "PTS                               0.063612  0.970686  1.000000  -0.003276  \n",
      "player_id                         0.008483 -0.005099 -0.003276   1.000000  \n"
     ]
    }
   ],
   "source": [
    "corrMatrix = shot_log.corr()\n",
    "print (corrMatrix)"
   ]
  },
  {
   "cell_type": "code",
   "execution_count": 9,
   "metadata": {},
   "outputs": [],
   "source": [
    "import seaborn as sn\n",
    "import matplotlib.pyplot as plt"
   ]
  },
  {
   "cell_type": "code",
   "execution_count": 10,
   "metadata": {},
   "outputs": [
    {
     "data": {
      "image/png": "[encoded data removed]",
      "text/plain": [
       "<Figure size 432x288 with 2 Axes>"
      ]
     },
     "metadata": {
      "needs_background": "light"
     },
     "output_type": "display_data"
    }
   ],
   "source": [
    "sn.heatmap(corrMatrix, annot=False)\n",
    "plt.show()"
   ]
  },
  {
   "cell_type": "code",
   "execution_count": 12,
   "metadata": {},
   "outputs": [
    {
     "data": {
      "text/plain": [
       "<seaborn.axisgrid.PairGrid at 0x7f9a6037b550>"
      ]
     },
     "execution_count": 12,
     "metadata": {},
     "output_type": "execute_result"
    },
    {
     "data": {
      "image/png": "[encoded data removed]",
      "text/plain": [
       "<Figure size 360x360 with 6 Axes>"
      ]
     },
     "metadata": {
      "needs_background": "light"
     },
     "output_type": "display_data"
    }
   ],
   "source": [
    "sn.pairplot(shot_log[['SHOT_RESULT','CLOSE_DEF_DIST']])"
   ]
  },
  {
   "cell_type": "code",
   "execution_count": null,
   "metadata": {},
   "outputs": [],
   "source": []
  },
  {
   "cell_type": "markdown",
   "metadata": {},
   "source": [
    "Find out how the close_def_dist is correlated with other features"
   ]
  },
  {
   "cell_type": "code",
   "execution_count": null,
   "metadata": {},
   "outputs": [],
   "source": [
    "stats.columns.to_list()"
   ]
  },
  {
   "cell_type": "code",
   "execution_count": null,
   "metadata": {},
   "outputs": [],
   "source": [
    "shot_log.head()"
   ]
  },
  {
   "cell_type": "code",
   "execution_count": null,
   "metadata": {},
   "outputs": [],
   "source": [
    "team_df = pd.read_csv(f'{file_dir}sportsref_download.csv')"
   ]
  },
  {
   "cell_type": "code",
   "execution_count": null,
   "metadata": {},
   "outputs": [],
   "source": [
    "team_df.dtypes"
   ]
  },
  {
   "cell_type": "code",
   "execution_count": null,
   "metadata": {},
   "outputs": [],
   "source": [
    "team_df"
   ]
  },
  {
   "cell_type": "code",
   "execution_count": null,
   "metadata": {},
   "outputs": [],
   "source": [
    "team_df['Team'] = team_df['Team'].replace(['Golden State Warriors*','Los Angeles Clippers*',\n",
    "                                           'San Antonio Spurs*','Atlanta Hawks*','Portland Trail Blazers*',\n",
    "                                          'Cleveland Cavaliers*','Houston Rockets*','Memphis Grizzlies*',\n",
    "                                          'Dallas Mavericks*','Chicago Bulls*','Oklahoma City Thunder','Toronto Raptors*',\n",
    "                                          'New Orleans Pelicans*','Utah Jazz','Washington Wizards*',\n",
    "                                          'Milwaukee Bucks*','Indiana Pacers','Phoenix Suns','Boston Celtics*',\n",
    "                                          'Detroit Pistons','Miami Heat','Denver Nuggets','Sacramento Kings',\n",
    "                                          'Brooklyn Nets*','Charlotte Hornets','Orlando Magic','Los Angeles Lakers',\n",
    "                                          'Minnesota Timberwolves','Philadelphia 76ers','New York Knicks']\n",
    "                                          \n",
    "                                          \n",
    "                                          \n",
    "                                          ,['GSW','LAC','SAS','ATL','POR','CLE','HOU','MEM','DAL','CHI','OKC','TOR','NOP'\n",
    "                                           ,'UTA','WAS','MIL','IND','PHO','BOS','DET','MIA','DEN','SAC','BKN',\n",
    "                                           'CHA','ORL','LAL','MIN','PHI','NYK'])\n",
    "team_df"
   ]
  },
  {
   "cell_type": "code",
   "execution_count": null,
   "metadata": {},
   "outputs": [],
   "source": []
  }
 ],
 "metadata": {
  "kernelspec": {
   "display_name": "PythonData",
   "language": "python",
   "name": "pythondata"
  },
  "language_info": {
   "codemirror_mode": {
    "name": "ipython",
    "version": 3
   },
   "file_extension": ".py",
   "mimetype": "text/x-python",
   "name": "python",
   "nbconvert_exporter": "python",
   "pygments_lexer": "ipython3",
   "version": "3.7.6"
  }
 },
 "nbformat": 4,
 "nbformat_minor": 4
}
