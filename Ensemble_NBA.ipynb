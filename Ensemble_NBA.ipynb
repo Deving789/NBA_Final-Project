{
 "cells": [
  {
   "cell_type": "code",
   "execution_count": 1,
   "metadata": {},
   "outputs": [],
   "source": [
    "import warnings\n",
    "warnings.filterwarnings('ignore')"
   ]
  },
  {
   "cell_type": "code",
   "execution_count": 2,
   "metadata": {},
   "outputs": [],
   "source": [
    "import numpy as np\n",
    "import pandas as pd\n",
    "from pathlib import Path\n",
    "from collections import Counter"
   ]
  },
  {
   "cell_type": "code",
   "execution_count": 3,
   "metadata": {},
   "outputs": [],
   "source": [
    "from sklearn.metrics import balanced_accuracy_score\n",
    "from sklearn.metrics import confusion_matrix\n",
    "from imblearn.metrics import classification_report_imbalanced"
   ]
  },
  {
   "cell_type": "markdown",
   "metadata": {},
   "source": [
    "## Read the CSV and perform the basic cleaning"
   ]
  },
  {
   "cell_type": "code",
   "execution_count": 4,
   "metadata": {},
   "outputs": [
    {
     "data": {
      "text/html": [
       "<div>\n",
       "<style scoped>\n",
       "    .dataframe tbody tr th:only-of-type {\n",
       "        vertical-align: middle;\n",
       "    }\n",
       "\n",
       "    .dataframe tbody tr th {\n",
       "        vertical-align: top;\n",
       "    }\n",
       "\n",
       "    .dataframe thead th {\n",
       "        text-align: right;\n",
       "    }\n",
       "</style>\n",
       "<table border=\"1\" class=\"dataframe\">\n",
       "  <thead>\n",
       "    <tr style=\"text-align: right;\">\n",
       "      <th></th>\n",
       "      <th>MATCHUP</th>\n",
       "      <th>SHOT_NUMBER</th>\n",
       "      <th>PERIOD</th>\n",
       "      <th>GAME_CLOCK</th>\n",
       "      <th>SHOT_DIST</th>\n",
       "      <th>SHOT_RESULT</th>\n",
       "      <th>CLOSEST_DEFENDER</th>\n",
       "      <th>CLOSEST_DEFENDER_PLAYER_ID</th>\n",
       "      <th>CLOSE_DEF_DIST</th>\n",
       "      <th>player_name</th>\n",
       "      <th>...</th>\n",
       "      <th>TOV%</th>\n",
       "      <th>ORB%</th>\n",
       "      <th>FT/FGA</th>\n",
       "      <th>eFG%.1</th>\n",
       "      <th>TOV%.1</th>\n",
       "      <th>DRB%</th>\n",
       "      <th>FT/FGA.1</th>\n",
       "      <th>Arena</th>\n",
       "      <th>Attend.</th>\n",
       "      <th>Attend./G</th>\n",
       "    </tr>\n",
       "  </thead>\n",
       "  <tbody>\n",
       "    <tr>\n",
       "      <th>0</th>\n",
       "      <td>MAR 04, 2015 - CHA @ BKN</td>\n",
       "      <td>1</td>\n",
       "      <td>1</td>\n",
       "      <td>00:01:09</td>\n",
       "      <td>7.7</td>\n",
       "      <td>made</td>\n",
       "      <td>Anderson, Alan</td>\n",
       "      <td>101187</td>\n",
       "      <td>1.3</td>\n",
       "      <td>Brian Roberts</td>\n",
       "      <td>...</td>\n",
       "      <td>11.2</td>\n",
       "      <td>22.1</td>\n",
       "      <td>0.202</td>\n",
       "      <td>0.487</td>\n",
       "      <td>12.0</td>\n",
       "      <td>79.3</td>\n",
       "      <td>0.188</td>\n",
       "      <td>Time Warner Cable Arena</td>\n",
       "      <td>704,886</td>\n",
       "      <td>17,192</td>\n",
       "    </tr>\n",
       "    <tr>\n",
       "      <th>1</th>\n",
       "      <td>MAR 04, 2015 - CHA @ BKN</td>\n",
       "      <td>2</td>\n",
       "      <td>1</td>\n",
       "      <td>00:02:31</td>\n",
       "      <td>20.0</td>\n",
       "      <td>missed</td>\n",
       "      <td>Anderson, Alan</td>\n",
       "      <td>101187</td>\n",
       "      <td>1.8</td>\n",
       "      <td>Gerald Henderson</td>\n",
       "      <td>...</td>\n",
       "      <td>11.2</td>\n",
       "      <td>22.1</td>\n",
       "      <td>0.202</td>\n",
       "      <td>0.487</td>\n",
       "      <td>12.0</td>\n",
       "      <td>79.3</td>\n",
       "      <td>0.188</td>\n",
       "      <td>Time Warner Cable Arena</td>\n",
       "      <td>704,886</td>\n",
       "      <td>17,192</td>\n",
       "    </tr>\n",
       "    <tr>\n",
       "      <th>2</th>\n",
       "      <td>MAR 04, 2015 - CHA @ BKN</td>\n",
       "      <td>5</td>\n",
       "      <td>3</td>\n",
       "      <td>00:11:36</td>\n",
       "      <td>21.2</td>\n",
       "      <td>made</td>\n",
       "      <td>Anderson, Alan</td>\n",
       "      <td>101187</td>\n",
       "      <td>4.1</td>\n",
       "      <td>Gerald Henderson</td>\n",
       "      <td>...</td>\n",
       "      <td>11.2</td>\n",
       "      <td>22.1</td>\n",
       "      <td>0.202</td>\n",
       "      <td>0.487</td>\n",
       "      <td>12.0</td>\n",
       "      <td>79.3</td>\n",
       "      <td>0.188</td>\n",
       "      <td>Time Warner Cable Arena</td>\n",
       "      <td>704,886</td>\n",
       "      <td>17,192</td>\n",
       "    </tr>\n",
       "    <tr>\n",
       "      <th>3</th>\n",
       "      <td>MAR 04, 2015 - CHA @ BKN</td>\n",
       "      <td>6</td>\n",
       "      <td>3</td>\n",
       "      <td>00:09:52</td>\n",
       "      <td>4.3</td>\n",
       "      <td>made</td>\n",
       "      <td>Anderson, Alan</td>\n",
       "      <td>101187</td>\n",
       "      <td>3.6</td>\n",
       "      <td>Gerald Henderson</td>\n",
       "      <td>...</td>\n",
       "      <td>11.2</td>\n",
       "      <td>22.1</td>\n",
       "      <td>0.202</td>\n",
       "      <td>0.487</td>\n",
       "      <td>12.0</td>\n",
       "      <td>79.3</td>\n",
       "      <td>0.188</td>\n",
       "      <td>Time Warner Cable Arena</td>\n",
       "      <td>704,886</td>\n",
       "      <td>17,192</td>\n",
       "    </tr>\n",
       "    <tr>\n",
       "      <th>4</th>\n",
       "      <td>MAR 04, 2015 - CHA @ BKN</td>\n",
       "      <td>8</td>\n",
       "      <td>3</td>\n",
       "      <td>00:03:39</td>\n",
       "      <td>21.9</td>\n",
       "      <td>made</td>\n",
       "      <td>Anderson, Alan</td>\n",
       "      <td>101187</td>\n",
       "      <td>8.0</td>\n",
       "      <td>Gerald Henderson</td>\n",
       "      <td>...</td>\n",
       "      <td>11.2</td>\n",
       "      <td>22.1</td>\n",
       "      <td>0.202</td>\n",
       "      <td>0.487</td>\n",
       "      <td>12.0</td>\n",
       "      <td>79.3</td>\n",
       "      <td>0.188</td>\n",
       "      <td>Time Warner Cable Arena</td>\n",
       "      <td>704,886</td>\n",
       "      <td>17,192</td>\n",
       "    </tr>\n",
       "  </tbody>\n",
       "</table>\n",
       "<p>5 rows × 79 columns</p>\n",
       "</div>"
      ],
      "text/plain": [
       "                    MATCHUP  SHOT_NUMBER  PERIOD GAME_CLOCK  SHOT_DIST  \\\n",
       "0  MAR 04, 2015 - CHA @ BKN            1       1   00:01:09        7.7   \n",
       "1  MAR 04, 2015 - CHA @ BKN            2       1   00:02:31       20.0   \n",
       "2  MAR 04, 2015 - CHA @ BKN            5       3   00:11:36       21.2   \n",
       "3  MAR 04, 2015 - CHA @ BKN            6       3   00:09:52        4.3   \n",
       "4  MAR 04, 2015 - CHA @ BKN            8       3   00:03:39       21.9   \n",
       "\n",
       "  SHOT_RESULT CLOSEST_DEFENDER  CLOSEST_DEFENDER_PLAYER_ID  CLOSE_DEF_DIST  \\\n",
       "0        made   Anderson, Alan                      101187             1.3   \n",
       "1      missed   Anderson, Alan                      101187             1.8   \n",
       "2        made   Anderson, Alan                      101187             4.1   \n",
       "3        made   Anderson, Alan                      101187             3.6   \n",
       "4        made   Anderson, Alan                      101187             8.0   \n",
       "\n",
       "        player_name  ...  TOV%  ORB% FT/FGA eFG%.1  TOV%.1  DRB%  FT/FGA.1  \\\n",
       "0     Brian Roberts  ...  11.2  22.1  0.202  0.487    12.0  79.3     0.188   \n",
       "1  Gerald Henderson  ...  11.2  22.1  0.202  0.487    12.0  79.3     0.188   \n",
       "2  Gerald Henderson  ...  11.2  22.1  0.202  0.487    12.0  79.3     0.188   \n",
       "3  Gerald Henderson  ...  11.2  22.1  0.202  0.487    12.0  79.3     0.188   \n",
       "4  Gerald Henderson  ...  11.2  22.1  0.202  0.487    12.0  79.3     0.188   \n",
       "\n",
       "                     Arena  Attend.  Attend./G  \n",
       "0  Time Warner Cable Arena  704,886     17,192  \n",
       "1  Time Warner Cable Arena  704,886     17,192  \n",
       "2  Time Warner Cable Arena  704,886     17,192  \n",
       "3  Time Warner Cable Arena  704,886     17,192  \n",
       "4  Time Warner Cable Arena  704,886     17,192  \n",
       "\n",
       "[5 rows x 79 columns]"
      ]
     },
     "execution_count": 4,
     "metadata": {},
     "output_type": "execute_result"
    }
   ],
   "source": [
    "# Load the data\n",
    "file_path = Path('Team_merge.csv')\n",
    "df = pd.read_csv(file_path)\n",
    "\n",
    "# Drop the null columns where all values are null\n",
    "#df = df.dropna(axis='columns', how='all')\n",
    "\n",
    "# Drop the null rows\n",
    "df = df.dropna()\n",
    "\n",
    "df.reset_index(inplace=True, drop=True)\n",
    "\n",
    "df.head()"
   ]
  },
  {
   "cell_type": "code",
   "execution_count": 5,
   "metadata": {},
   "outputs": [
    {
     "data": {
      "text/plain": [
       "Index(['MATCHUP', 'SHOT_NUMBER', 'PERIOD', 'GAME_CLOCK', 'SHOT_DIST',\n",
       "       'SHOT_RESULT', 'CLOSEST_DEFENDER', 'CLOSEST_DEFENDER_PLAYER_ID',\n",
       "       'CLOSE_DEF_DIST', 'player_name', 'player_id', 'DATE', 'TIMESTAMP',\n",
       "       'Name (Shooter)', 'Games Played', 'MIN', 'PTS', 'FGM', 'FGA', 'FG%',\n",
       "       '3PM', '3PA', '3P%', 'FTM', 'FTA', 'FT%', 'OREB', 'DREB', 'REB', 'AST',\n",
       "       'STL', 'BLK', 'TOV', 'PF', 'EFF', 'AST/TOV', 'STL/TOV', 'Age_x',\n",
       "       'Birth_Place', 'Birthdate', 'Collage', 'Experience', 'Height (Shooter)',\n",
       "       'Pos', 'Team', 'Weight', 'BMI', 'CD Last Name', 'CD First Name',\n",
       "       'CD NAME', 'Name (CD)', 'Height (CD)', 'Rk', 'Age_y', 'W', 'L', 'PW',\n",
       "       'PL', 'MOV', 'SOS', 'SRS', 'ORtg', 'DRtg', 'NRtg', 'Pace', 'FTr',\n",
       "       '3PAr', 'TS%', 'eFG%', 'TOV%', 'ORB%', 'FT/FGA', 'eFG%.1', 'TOV%.1',\n",
       "       'DRB%', 'FT/FGA.1', 'Arena', 'Attend.', 'Attend./G'],\n",
       "      dtype='object')"
      ]
     },
     "execution_count": 5,
     "metadata": {},
     "output_type": "execute_result"
    }
   ],
   "source": [
    "df.columns"
   ]
  },
  {
   "cell_type": "code",
   "execution_count": 6,
   "metadata": {},
   "outputs": [],
   "source": [
    "df = df.drop(['player_id','DATE','Birth_Place','Birthdate','Collage','Pos','BMI','Age_y','Arena'],axis =1)"
   ]
  },
  {
   "cell_type": "markdown",
   "metadata": {},
   "source": [
    "## Split into training and testing"
   ]
  },
  {
   "cell_type": "code",
   "execution_count": 7,
   "metadata": {},
   "outputs": [],
   "source": [
    "# Create our features\n",
    "X = df.drop(\"SHOT_RESULT\", axis=1)\n",
    "\n",
    "#X = pd.get_dummies(X)\n",
    "\n",
    "# Create our target\n",
    "y = df[\"SHOT_RESULT\"]"
   ]
  },
  {
   "cell_type": "code",
   "execution_count": null,
   "metadata": {},
   "outputs": [],
   "source": [
    "X.describe()"
   ]
  },
  {
   "cell_type": "code",
   "execution_count": null,
   "metadata": {},
   "outputs": [],
   "source": [
    "# Check the balance of our target values\n",
    "y.value_counts()"
   ]
  },
  {
   "cell_type": "code",
   "execution_count": null,
   "metadata": {},
   "outputs": [],
   "source": [
    "from sklearn.model_selection import train_test_split\n",
    "X_train, X_test, y_train, y_test = train_test_split(X, y, random_state=42)"
   ]
  },
  {
   "cell_type": "markdown",
   "metadata": {},
   "source": [
    "## Ensemble Learners\n",
    "1.Train the model using the training data.\n",
    "2.Calculate the balanced accuracy score from sklearn.metrics.\n",
    "3.Print the confusion matrix from sklearn.metrics.\n",
    "4.Generate a classication report using the imbalanced_classification_report from imbalanced-learn."
   ]
  },
  {
   "cell_type": "markdown",
   "metadata": {},
   "source": [
    "Balanced Random Forest Classifier"
   ]
  },
  {
   "cell_type": "code",
   "execution_count": null,
   "metadata": {},
   "outputs": [],
   "source": [
    "# Resample the training data with the BalancedRandomForestClassifier\n",
    "from imblearn.ensemble import BalancedRandomForestClassifier\n",
    "random_forest = BalancedRandomForestClassifier(n_estimators = 100)\n",
    "random_forest = random_forest.fit(X_train, y_train)"
   ]
  },
  {
   "cell_type": "code",
   "execution_count": null,
   "metadata": {},
   "outputs": [],
   "source": [
    "# Calculated the balanced accuracy score\n",
    "from sklearn.metrics import balanced_accuracy_score\n",
    "y_pred = random_forest.predict(X_test)\n",
    "balanced_accuracy_score(y_test, y_pred)"
   ]
  },
  {
   "cell_type": "code",
   "execution_count": null,
   "metadata": {},
   "outputs": [],
   "source": [
    "# Display the confusion matrix\n",
    "from sklearn.metrics import confusion_matrix\n",
    "confusion_matrix(y_test, y_pred)"
   ]
  },
  {
   "cell_type": "code",
   "execution_count": null,
   "metadata": {},
   "outputs": [],
   "source": [
    "# Print the imbalanced classification report\n",
    "from imblearn.metrics import classification_report_imbalanced\n",
    "print(classification_report_imbalanced(y_test, y_pred))"
   ]
  },
  {
   "cell_type": "code",
   "execution_count": null,
   "metadata": {},
   "outputs": [],
   "source": [
    "# List the features sorted in descending order by feature importance\n",
    "feature_names = X.columns\n",
    "sorted(zip(random_forest.feature_importances_, feature_names), reverse=True)"
   ]
  },
  {
   "cell_type": "code",
   "execution_count": null,
   "metadata": {},
   "outputs": [],
   "source": []
  }
 ],
 "metadata": {
  "kernelspec": {
   "display_name": "Python 3",
   "language": "python",
   "name": "python3"
  },
  "language_info": {
   "codemirror_mode": {
    "name": "ipython",
    "version": 3
   },
   "file_extension": ".py",
   "mimetype": "text/x-python",
   "name": "python",
   "nbconvert_exporter": "python",
   "pygments_lexer": "ipython3",
   "version": "3.7.6"
  }
 },
 "nbformat": 4,
 "nbformat_minor": 4
}
